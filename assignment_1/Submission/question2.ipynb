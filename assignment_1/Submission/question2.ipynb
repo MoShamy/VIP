{
 "cells": [
  {
   "cell_type": "markdown",
   "metadata": {},
   "source": [
    "# Vector Matrix Calculations"
   ]
  },
  {
   "cell_type": "markdown",
   "metadata": {},
   "source": [
    "## Question 1"
   ]
  },
  {
   "cell_type": "markdown",
   "metadata": {},
   "source": [
    "After running the piece of code provided in the assignment interactively, we observe that initially when computing the dot product of two vectors a and b, the python-numpy returns the expected result for the inner product. However after transforming the vectors into column vectors, the dot product returns an error message. The error states that the dimensions of the operands are not valid, specifically \"size 4 is different from 1\". This implies that the dot product operator \"@\" does not inherantly know to use the transpose of one of the vectors to compute the outer product. This issue is resolved when using a.T as the operator. Furthermore, when attempting to print the float value of this computation, a deprication message is returned (as well as the correct answer), notifying the user that the functionality of converting all values in a matrix to a different data type using type-casting will be depricated in future versions of numpy"
   ]
  },
  {
   "cell_type": "markdown",
   "metadata": {},
   "source": [
    "## Question 2"
   ]
  },
  {
   "cell_type": "code",
   "execution_count": 15,
   "metadata": {},
   "outputs": [],
   "source": [
    "import numpy as np"
   ]
  },
  {
   "cell_type": "code",
   "execution_count": null,
   "metadata": {},
   "outputs": [
    {
     "name": "stdout",
     "output_type": "stream",
     "text": [
      "[0 0 0] [-64 -19 -14] [64 19 14]\n",
      "0 0\n"
     ]
    }
   ],
   "source": [
    "#first we assign the variables\n",
    "\n",
    "t = np.array([-3, 2, 11])\n",
    "\n",
    "a = np.array([-2, 6, 1])\n",
    "\n",
    "# beginning of the calculations\n",
    "t_cross_t = np.cross(t, t)\n",
    "\n",
    "b = np.cross(t, a)\n",
    "\n",
    "c = np.cross(a, t)\n",
    "\n",
    "print(t_cross_t , b, c)\n",
    "\n",
    "tb = np.dot(t, b)\n",
    "\n",
    "ab = np.dot(a, b)\n",
    "\n",
    "print(tb, ab)"
   ]
  },
  {
   "cell_type": "markdown",
   "metadata": {},
   "source": [
    "## Quesiton 3"
   ]
  },
  {
   "cell_type": "code",
   "execution_count": 17,
   "metadata": {},
   "outputs": [
    {
     "name": "stdout",
     "output_type": "stream",
     "text": [
      "The skew matrix comprised of elements of vector t is:\n",
      " [[  0 -11   2]\n",
      " [ 11   0   3]\n",
      " [ -2  -3   0]]\n",
      "The matrix vector product of the skew matrix and t is:\n",
      " [0 0 0]\n",
      "The matrix vector product of the skew matrix and a is:\n",
      " [-64 -19 -14]\n"
     ]
    }
   ],
   "source": [
    "t = np.array([-3, 2, 11])\n",
    "\n",
    "def skew_symmetric_matrix(t):\n",
    "    \"\"\"\n",
    "    This function returns the skew symmetric matrix of a vector t\n",
    "    \"\"\"\n",
    "    return np.array([[ 0 , -t[2], t[1]],\n",
    "                     [ t[2], 0, -t[0]],\n",
    "                     [-t[1], t[0], 0]  ])\n",
    "\n",
    "t_skew = skew_symmetric_matrix(t)\n",
    "\n",
    "t_skew_dot_t = np.dot(t_skew, t)\n",
    "\n",
    "t_skew_dot_a = np.dot(t_skew, a)\n",
    "\n",
    "print(\"The skew matrix comprised of elements of vector t is:\\n\",t_skew)\n",
    "print(\"The matrix vector product of the skew matrix and t is:\\n\",t_skew_dot_t)\n",
    "print(\"The matrix vector product of the skew matrix and a is:\\n\",t_skew_dot_a)\n"
   ]
  },
  {
   "cell_type": "markdown",
   "metadata": {},
   "source": [
    "Here we can see that the t^ association of the t vector returns a skew matrix comprised of the components of t.\n",
    "t^ x t is a 3D null matrix, similar to t x t calculated in the previous question\n",
    "t^ x a is equivalent to t x a calculated in the previous question"
   ]
  },
  {
   "cell_type": "markdown",
   "metadata": {},
   "source": [
    "## Question 4"
   ]
  },
  {
   "cell_type": "markdown",
   "metadata": {},
   "source": [
    "t x v can also be represented by the dot product t^v"
   ]
  },
  {
   "cell_type": "markdown",
   "metadata": {},
   "source": [
    "## Question 5"
   ]
  },
  {
   "cell_type": "code",
   "execution_count": 18,
   "metadata": {},
   "outputs": [
    {
     "name": "stdout",
     "output_type": "stream",
     "text": [
      "The skew matrix is skew symmetric\n"
     ]
    }
   ],
   "source": [
    "t_skew = skew_symmetric_matrix(t)\n",
    "t_skew_transpose = np.transpose(t_skew)\n",
    "\n",
    "\n",
    "if(t_skew_transpose == -1*t_skew).all():\n",
    "    print(\"The skew matrix is skew symmetric\")"
   ]
  },
  {
   "cell_type": "code",
   "execution_count": 19,
   "metadata": {},
   "outputs": [
    {
     "name": "stdout",
     "output_type": "stream",
     "text": [
      "The transpose of the square of the skew matrix is:\n",
      " [[-125   -6  -33]\n",
      " [  -6 -130   22]\n",
      " [ -33   22  -13]]\n",
      "The transpose of the cube of the skew matrix is:\n",
      " [[    0 -1474   268]\n",
      " [ 1474     0   402]\n",
      " [ -268  -402     0]]\n"
     ]
    }
   ],
   "source": [
    "t_skew_squared = np.dot(t_skew, t_skew)\n",
    "\n",
    "t_skew_squared_transpose = np.transpose(t_skew_squared)\n",
    "\n",
    "t_skew_cubed_transpose = np.transpose(np.dot(t_skew, t_skew_squared))\n",
    "\n",
    "print(\"The transpose of the square of the skew matrix is:\\n\",t_skew_squared_transpose)\n",
    "print(\"The transpose of the cube of the skew matrix is:\\n\",t_skew_cubed_transpose)"
   ]
  }
 ],
 "metadata": {
  "kernelspec": {
   "display_name": "Python 3",
   "language": "python",
   "name": "python3"
  },
  "language_info": {
   "codemirror_mode": {
    "name": "ipython",
    "version": 3
   },
   "file_extension": ".py",
   "mimetype": "text/x-python",
   "name": "python",
   "nbconvert_exporter": "python",
   "pygments_lexer": "ipython3",
   "version": "3.9.6"
  }
 },
 "nbformat": 4,
 "nbformat_minor": 2
}
